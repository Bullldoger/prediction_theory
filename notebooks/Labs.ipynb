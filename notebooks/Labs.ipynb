{
 "cells": [
  {
   "cell_type": "code",
   "execution_count": 1,
   "metadata": {},
   "outputs": [],
   "source": [
    "import numpy as np\n",
    "from numpy import linalg\n",
    "import matplotlib.pyplot as plt\n",
    "import pandas as pd\n",
    "from scipy import stats\n",
    "from sklearn import linear_model\n",
    "\n",
    "from pprint import pprint"
   ]
  },
  {
   "cell_type": "markdown",
   "metadata": {},
   "source": [
    "# Lab 1"
   ]
  },
  {
   "cell_type": "markdown",
   "metadata": {},
   "source": [
    "## Task 1"
   ]
  },
  {
   "cell_type": "code",
   "execution_count": 2,
   "metadata": {},
   "outputs": [],
   "source": [
    "X = np.array([ [i] for i in range(1, 10)])"
   ]
  },
  {
   "cell_type": "code",
   "execution_count": 3,
   "metadata": {},
   "outputs": [
    {
     "name": "stdout",
     "output_type": "stream",
     "text": [
      "array([[1., 1.],\n",
      "       [1., 2.],\n",
      "       [1., 3.],\n",
      "       [1., 4.],\n",
      "       [1., 5.],\n",
      "       [1., 6.],\n",
      "       [1., 7.],\n",
      "       [1., 8.],\n",
      "       [1., 9.]])\n"
     ]
    }
   ],
   "source": [
    "X1 = np.concatenate((np.ones(X.shape), X), axis=1)\n",
    "pprint(X1)"
   ]
  },
  {
   "cell_type": "code",
   "execution_count": 4,
   "metadata": {},
   "outputs": [
    {
     "name": "stdout",
     "output_type": "stream",
     "text": [
      "array([[1.        , 1.        , 1.        ],\n",
      "       [1.        , 2.        , 0.5       ],\n",
      "       [1.        , 3.        , 0.33333333],\n",
      "       [1.        , 4.        , 0.25      ],\n",
      "       [1.        , 5.        , 0.2       ],\n",
      "       [1.        , 6.        , 0.16666667],\n",
      "       [1.        , 7.        , 0.14285714],\n",
      "       [1.        , 8.        , 0.125     ],\n",
      "       [1.        , 9.        , 0.11111111]])\n"
     ]
    }
   ],
   "source": [
    "X2 = np.concatenate((np.ones(X.shape), X, 1 / X), axis=1)\n",
    "pprint(X2)"
   ]
  },
  {
   "cell_type": "code",
   "execution_count": 5,
   "metadata": {},
   "outputs": [
    {
     "name": "stdout",
     "output_type": "stream",
     "text": [
      "array([[1.00000000e+00, 1.00000000e+00, 1.00000000e+00, 0.00000000e+00],\n",
      "       [1.00000000e+00, 4.00000000e+00, 8.00000000e+00, 6.93147181e-01],\n",
      "       [1.00000000e+00, 9.00000000e+00, 2.70000000e+01, 1.09861229e+00],\n",
      "       [1.00000000e+00, 1.60000000e+01, 6.40000000e+01, 1.38629436e+00],\n",
      "       [1.00000000e+00, 2.50000000e+01, 1.25000000e+02, 1.60943791e+00],\n",
      "       [1.00000000e+00, 3.60000000e+01, 2.16000000e+02, 1.79175947e+00],\n",
      "       [1.00000000e+00, 4.90000000e+01, 3.43000000e+02, 1.94591015e+00],\n",
      "       [1.00000000e+00, 6.40000000e+01, 5.12000000e+02, 2.07944154e+00],\n",
      "       [1.00000000e+00, 8.10000000e+01, 7.29000000e+02, 2.19722458e+00]])\n"
     ]
    }
   ],
   "source": [
    "X3 = np.concatenate((np.ones(X.shape), X ** 2, X ** 3, np.log(X)), axis=1)\n",
    "pprint(X3)"
   ]
  },
  {
   "cell_type": "markdown",
   "metadata": {},
   "source": [
    "## Task 2"
   ]
  },
  {
   "cell_type": "code",
   "execution_count": 6,
   "metadata": {},
   "outputs": [
    {
     "data": {
      "text/html": [
       "<div>\n",
       "<style scoped>\n",
       "    .dataframe tbody tr th:only-of-type {\n",
       "        vertical-align: middle;\n",
       "    }\n",
       "\n",
       "    .dataframe tbody tr th {\n",
       "        vertical-align: top;\n",
       "    }\n",
       "\n",
       "    .dataframe thead th {\n",
       "        text-align: right;\n",
       "    }\n",
       "</style>\n",
       "<table border=\"1\" class=\"dataframe\">\n",
       "  <thead>\n",
       "    <tr style=\"text-align: right;\">\n",
       "      <th></th>\n",
       "      <th>x</th>\n",
       "      <th>y</th>\n",
       "    </tr>\n",
       "  </thead>\n",
       "  <tbody>\n",
       "    <tr>\n",
       "      <th>0</th>\n",
       "      <td>0.045826</td>\n",
       "      <td>-31.968642</td>\n",
       "    </tr>\n",
       "    <tr>\n",
       "      <th>1</th>\n",
       "      <td>0.046307</td>\n",
       "      <td>-31.649220</td>\n",
       "    </tr>\n",
       "    <tr>\n",
       "      <th>2</th>\n",
       "      <td>0.046788</td>\n",
       "      <td>-31.489306</td>\n",
       "    </tr>\n",
       "    <tr>\n",
       "      <th>3</th>\n",
       "      <td>0.047269</td>\n",
       "      <td>-31.573924</td>\n",
       "    </tr>\n",
       "    <tr>\n",
       "      <th>4</th>\n",
       "      <td>0.047750</td>\n",
       "      <td>-31.187285</td>\n",
       "    </tr>\n",
       "  </tbody>\n",
       "</table>\n",
       "</div>"
      ],
      "text/plain": [
       "          x          y\n",
       "0  0.045826 -31.968642\n",
       "1  0.046307 -31.649220\n",
       "2  0.046788 -31.489306\n",
       "3  0.047269 -31.573924\n",
       "4  0.047750 -31.187285"
      ]
     },
     "execution_count": 6,
     "metadata": {},
     "output_type": "execute_result"
    }
   ],
   "source": [
    "df = pd.read_excel('../data/ls_variants.xls', sheet_name='вар. 15')\n",
    "df.head()"
   ]
  },
  {
   "cell_type": "code",
   "execution_count": 7,
   "metadata": {},
   "outputs": [],
   "source": [
    "x = np.array([df.values[:, 0]]).T\n",
    "y = np.array([df.values[:, 1]]).T"
   ]
  },
  {
   "cell_type": "code",
   "execution_count": 8,
   "metadata": {},
   "outputs": [],
   "source": [
    "X = np.concatenate((np.ones(x.shape), x,  x ** 2, x ** 3, \n",
    "                    np.exp(x), np.log(x), np.sin(17 * x), \n",
    "                    np.cos(17 * x),\n",
    "                    x ** 4, np.cos(33 * x - 0.3)), axis=1)"
   ]
  },
  {
   "cell_type": "code",
   "execution_count": 9,
   "metadata": {},
   "outputs": [],
   "source": [
    "n = X.shape[0]\n",
    "m = X.shape[1]"
   ]
  },
  {
   "cell_type": "code",
   "execution_count": 10,
   "metadata": {},
   "outputs": [
    {
     "data": {
      "text/plain": [
       "array([[ 1.00000000e+00,  4.58255017e-02,  2.09997661e-03,\n",
       "         9.62324817e-05,  1.04689171e+00, -3.08291454e+00,\n",
       "         7.02592014e-01,  7.11592905e-01,  4.40990176e-06,\n",
       "         3.50921280e-01],\n",
       "       [ 1.00000000e+00,  4.63065952e-02,  2.14430076e-03,\n",
       "         9.92952670e-05,  1.04739549e+00, -3.07247088e+00,\n",
       "         7.08388277e-01,  7.05822959e-01,  4.59802573e-06,\n",
       "         3.36011237e-01],\n",
       "       [ 1.00000000e+00,  4.67876886e-02,  2.18908781e-03,\n",
       "         1.02422359e-04,  1.04789950e+00, -3.06213517e+00,\n",
       "         7.14137156e-01,  7.00005802e-01,  4.79210542e-06,\n",
       "         3.21016504e-01],\n",
       "       [ 1.00000000e+00,  4.72687821e-02,  2.23433776e-03,\n",
       "         1.05614424e-04,  1.04840376e+00, -3.05190520e+00,\n",
       "         7.19838268e-01,  6.94141821e-01,  4.99226521e-06,\n",
       "         3.05940861e-01],\n",
       "       [ 1.00000000e+00,  4.77498755e-02,  2.28005061e-03,\n",
       "         1.08872133e-04,  1.04890826e+00, -3.04177882e+00,\n",
       "         7.25491230e-01,  6.88231411e-01,  5.19863078e-06,\n",
       "         2.90788106e-01]])"
      ]
     },
     "execution_count": 10,
     "metadata": {},
     "output_type": "execute_result"
    }
   ],
   "source": [
    "X[:5, :]"
   ]
  },
  {
   "cell_type": "code",
   "execution_count": 11,
   "metadata": {},
   "outputs": [
    {
     "data": {
      "text/plain": [
       "LinearRegression(copy_X=True, fit_intercept=False, n_jobs=1, normalize=False)"
      ]
     },
     "execution_count": 11,
     "metadata": {},
     "output_type": "execute_result"
    }
   ],
   "source": [
    "clf = linear_model.LinearRegression(fit_intercept=False)\n",
    "clf.fit(X, y)"
   ]
  },
  {
   "cell_type": "code",
   "execution_count": 12,
   "metadata": {},
   "outputs": [],
   "source": [
    "y_predicted = clf.predict(X) \n",
    "e_all = y_predicted - y\n",
    "S = np.sum(e_all * e_all)\n",
    "R = 1 - np.sum(e_all * e_all) / np.sum((y - np.mean(y)) ** 2)"
   ]
  },
  {
   "cell_type": "code",
   "execution_count": 13,
   "metadata": {},
   "outputs": [],
   "source": [
    "coef = clf.coef_"
   ]
  },
  {
   "cell_type": "markdown",
   "metadata": {},
   "source": [
    "### Полученная регрессия"
   ]
  },
  {
   "cell_type": "code",
   "execution_count": 14,
   "metadata": {},
   "outputs": [
    {
     "data": {
      "image/png": "[encoded data removed]",
      "text/plain": [
       "<Figure size 720x720 with 1 Axes>"
      ]
     },
     "metadata": {},
     "output_type": "display_data"
    }
   ],
   "source": [
    "plt.figure(figsize=(10, 10))\n",
    "plt.plot(x, y_predicted, '-r')\n",
    "plt.plot(x, y, '--b')\n",
    "plt.show()"
   ]
  },
  {
   "cell_type": "markdown",
   "metadata": {},
   "source": [
    "### Остатки ( итог = просто шум)"
   ]
  },
  {
   "cell_type": "code",
   "execution_count": 15,
   "metadata": {},
   "outputs": [
    {
     "data": {
      "image/png": "[encoded data removed]",
      "text/plain": [
       "<Figure size 720x720 with 1 Axes>"
      ]
     },
     "metadata": {},
     "output_type": "display_data"
    }
   ],
   "source": [
    "plt.figure(figsize=(10, 10))\n",
    "plt.plot(x, e_all, 'o')\n",
    "plt.show()"
   ]
  },
  {
   "cell_type": "code",
   "execution_count": 16,
   "metadata": {},
   "outputs": [
    {
     "name": "stdout",
     "output_type": "stream",
     "text": [
      "0.9996246283579703 18.371034879523094\n"
     ]
    }
   ],
   "source": [
    "print(R, S)"
   ]
  },
  {
   "cell_type": "markdown",
   "metadata": {},
   "source": [
    "# Lab 2"
   ]
  },
  {
   "cell_type": "markdown",
   "metadata": {},
   "source": [
    "## Task 1"
   ]
  },
  {
   "cell_type": "markdown",
   "metadata": {},
   "source": [
    "### Оценка значимости коэффициентов регрессии по критерию Стюдента"
   ]
  },
  {
   "cell_type": "code",
   "execution_count": 17,
   "metadata": {},
   "outputs": [],
   "source": [
    "X = np.concatenate((np.ones(x.shape), x,  x ** 2, x ** 3, \n",
    "                    np.exp(x), np.log(x), np.sin(17 * x), \n",
    "                    np.cos(17 * x),\n",
    "                    x ** 4, np.cos(33 * x - 0.3)), axis=1)"
   ]
  },
  {
   "cell_type": "code",
   "execution_count": 18,
   "metadata": {},
   "outputs": [],
   "source": [
    "n = X.shape[0]\n",
    "m = X.shape[1]"
   ]
  },
  {
   "cell_type": "code",
   "execution_count": 19,
   "metadata": {},
   "outputs": [
    {
     "data": {
      "text/plain": [
       "LinearRegression(copy_X=True, fit_intercept=False, n_jobs=1, normalize=False)"
      ]
     },
     "execution_count": 19,
     "metadata": {},
     "output_type": "execute_result"
    }
   ],
   "source": [
    "clf = linear_model.LinearRegression(fit_intercept=False)\n",
    "clf.fit(X, y)"
   ]
  },
  {
   "cell_type": "code",
   "execution_count": 20,
   "metadata": {},
   "outputs": [],
   "source": [
    "coef = clf.coef_"
   ]
  },
  {
   "cell_type": "markdown",
   "metadata": {},
   "source": [
    "### Коэффициенты регрессии"
   ]
  },
  {
   "cell_type": "code",
   "execution_count": 21,
   "metadata": {},
   "outputs": [
    {
     "data": {
      "text/plain": [
       "array([[-8.56426715e+05],\n",
       "       [-8.54771980e+05],\n",
       "       [-4.35879484e+05],\n",
       "       [-1.23289467e+05],\n",
       "       [ 8.56250064e+05],\n",
       "       [-2.81626043e+01],\n",
       "       [-2.74172793e+00],\n",
       "       [ 9.86775276e+00],\n",
       "       [-5.69350741e+04],\n",
       "       [ 1.46617005e-01]])"
      ]
     },
     "execution_count": 21,
     "metadata": {},
     "output_type": "execute_result"
    }
   ],
   "source": [
    "coef.T"
   ]
  },
  {
   "cell_type": "code",
   "execution_count": 22,
   "metadata": {},
   "outputs": [],
   "source": [
    "y_predicted = clf.predict(X) \n",
    "e_all = y_predicted - y\n",
    "S = np.sum(e_all * e_all)\n",
    "R = 1 - np.sum(e_all * e_all) / np.sum((y - np.mean(y)) ** 2)\n",
    "sigma = S / (n - m)"
   ]
  },
  {
   "cell_type": "code",
   "execution_count": 23,
   "metadata": {},
   "outputs": [],
   "source": [
    "D = sigma * linalg.inv(np.dot(X.T, X))\n",
    "D = np.diag(D)"
   ]
  },
  {
   "cell_type": "code",
   "execution_count": 24,
   "metadata": {},
   "outputs": [],
   "source": [
    "from scipy.stats import t\n",
    "import math\n",
    "alpha = 0.01\n",
    "quantile = t.ppf(1 - alpha, n - m)"
   ]
  },
  {
   "cell_type": "markdown",
   "metadata": {},
   "source": [
    "### Вероятность незначимости коэффициента регрессии"
   ]
  },
  {
   "cell_type": "code",
   "execution_count": 25,
   "metadata": {
    "scrolled": true
   },
   "outputs": [
    {
     "name": "stdout",
     "output_type": "stream",
     "text": [
      "0.0\n",
      "0.0\n",
      "0.0\n",
      "0.0\n",
      "0.0\n",
      "0.0\n",
      "0.0\n",
      "0.0\n",
      "0.0\n",
      "0.0\n"
     ]
    }
   ],
   "source": [
    "for b, c in zip(coef.flatten(), D):\n",
    "    t_s = b / np.sqrt(np.abs(c))\n",
    "    t_s = 2 * (1 - t.cdf(np.abs(t_s), df=n - m))\n",
    "    print(t_s)"
   ]
  },
  {
   "cell_type": "markdown",
   "metadata": {},
   "source": [
    "## Task 2"
   ]
  },
  {
   "cell_type": "markdown",
   "metadata": {},
   "source": [
    "### Оценка значимости группы факторов по критерию Фишера"
   ]
  },
  {
   "cell_type": "code",
   "execution_count": 26,
   "metadata": {},
   "outputs": [],
   "source": [
    "X = np.concatenate((np.ones(x.shape), x,  x ** 2, x ** 3, \n",
    "                    np.exp(x), np.log(x), np.sin(17 * x), \n",
    "                    np.cos(17 * x),\n",
    "                    x ** 4, np.cos(33 * x - 0.3)), axis=1)\n",
    "X_P = np.concatenate((np.ones(x.shape), x,  x ** 2, x ** 3, \n",
    "                    np.exp(x), np.log(x), np.sin(17 * x), \n",
    "                    np.cos(17 * x),\n",
    "                    x ** 4, np.cos(33 * x - 0.3), \n",
    "                    np.tan(20 * x), np.log(10 * x)), axis=1)"
   ]
  },
  {
   "cell_type": "code",
   "execution_count": 27,
   "metadata": {},
   "outputs": [],
   "source": [
    "n = X.shape[0]\n",
    "m = X.shape[1]\n",
    "\n",
    "n_p = X_P.shape[0]\n",
    "m_p = X_P.shape[1]"
   ]
  },
  {
   "cell_type": "code",
   "execution_count": 28,
   "metadata": {},
   "outputs": [
    {
     "data": {
      "text/plain": [
       "LinearRegression(copy_X=True, fit_intercept=False, n_jobs=1, normalize=False)"
      ]
     },
     "execution_count": 28,
     "metadata": {},
     "output_type": "execute_result"
    }
   ],
   "source": [
    "clf = linear_model.LinearRegression(fit_intercept=False)\n",
    "clf.fit(X, y)"
   ]
  },
  {
   "cell_type": "code",
   "execution_count": 29,
   "metadata": {},
   "outputs": [],
   "source": [
    "coef = clf.coef_"
   ]
  },
  {
   "cell_type": "markdown",
   "metadata": {},
   "source": [
    "### Коэффициенты регрессии"
   ]
  },
  {
   "cell_type": "code",
   "execution_count": 30,
   "metadata": {},
   "outputs": [
    {
     "data": {
      "text/plain": [
       "LinearRegression(copy_X=True, fit_intercept=False, n_jobs=1, normalize=False)"
      ]
     },
     "execution_count": 30,
     "metadata": {},
     "output_type": "execute_result"
    }
   ],
   "source": [
    "clf = linear_model.LinearRegression(fit_intercept=False)\n",
    "clf.fit(X, y)\n",
    "\n",
    "clf_p = linear_model.LinearRegression(fit_intercept=False)\n",
    "clf_p.fit(X_P, y)"
   ]
  },
  {
   "cell_type": "code",
   "execution_count": 31,
   "metadata": {},
   "outputs": [],
   "source": [
    "y_predicted = clf.predict(X) \n",
    "e_all = y_predicted - y\n",
    "S = np.sum(e_all * e_all)\n",
    "R = 1 - np.sum(e_all * e_all) / np.sum((y - np.mean(y)) ** 2)\n",
    "sigma = S / (n - m)"
   ]
  },
  {
   "cell_type": "code",
   "execution_count": 32,
   "metadata": {},
   "outputs": [],
   "source": [
    "y_predicted_p = clf_p.predict(X_P) \n",
    "e_all_p = y_predicted_p - y\n",
    "S_p = np.sum(e_all_p * e_all_p)\n",
    "R_p = 1 - np.sum(e_all_p * e_all_p) / np.sum((y - np.mean(y)) ** 2)\n",
    "sigma_p = S_p / (n - m)"
   ]
  },
  {
   "cell_type": "code",
   "execution_count": 33,
   "metadata": {},
   "outputs": [],
   "source": [
    "F = (R - R_p) / (m_p - m) * R_p / (n - m)"
   ]
  },
  {
   "cell_type": "code",
   "execution_count": 34,
   "metadata": {},
   "outputs": [],
   "source": [
    "from scipy.stats import f\n",
    "import math\n",
    "alpha = 0.01"
   ]
  },
  {
   "cell_type": "markdown",
   "metadata": {},
   "source": [
    "### Вероятность незначимости коэффициента регрессии"
   ]
  },
  {
   "cell_type": "code",
   "execution_count": 35,
   "metadata": {},
   "outputs": [],
   "source": [
    "F_S = f.ppf(1 - alpha, dfn=m_p-m, dfd=m)"
   ]
  },
  {
   "cell_type": "code",
   "execution_count": 36,
   "metadata": {},
   "outputs": [
    {
     "name": "stdout",
     "output_type": "stream",
     "text": [
      "Статистика -3.512748303559595e-11 < 7.559432157547899\n"
     ]
    }
   ],
   "source": [
    "print('Статистика {F_S} < {F}'.format(F=F_S, F_S=F))"
   ]
  },
  {
   "cell_type": "markdown",
   "metadata": {},
   "source": [
    "### Гипотеза о незначимости новых факторов не отвергается, значит построим доверительный интервал"
   ]
  },
  {
   "cell_type": "markdown",
   "metadata": {},
   "source": [
    "## Task 3"
   ]
  },
  {
   "cell_type": "markdown",
   "metadata": {},
   "source": [
    "### Совместная доверительная область"
   ]
  },
  {
   "cell_type": "code",
   "execution_count": 37,
   "metadata": {},
   "outputs": [],
   "source": [
    "X = np.concatenate((np.ones(x.shape), x,  x ** 2, x ** 3, \n",
    "                    np.exp(x), np.log(x), np.sin(17 * x), \n",
    "                    np.cos(17 * x),\n",
    "                    x ** 4, np.cos(33 * x - 0.3)), axis=1)"
   ]
  },
  {
   "cell_type": "code",
   "execution_count": 38,
   "metadata": {},
   "outputs": [],
   "source": [
    "n = X.shape[0]\n",
    "m = X.shape[1]"
   ]
  },
  {
   "cell_type": "code",
   "execution_count": 39,
   "metadata": {},
   "outputs": [
    {
     "data": {
      "text/plain": [
       "LinearRegression(copy_X=True, fit_intercept=False, n_jobs=1, normalize=False)"
      ]
     },
     "execution_count": 39,
     "metadata": {},
     "output_type": "execute_result"
    }
   ],
   "source": [
    "clf = linear_model.LinearRegression(fit_intercept=False)\n",
    "clf.fit(X, y)"
   ]
  },
  {
   "cell_type": "code",
   "execution_count": 40,
   "metadata": {},
   "outputs": [],
   "source": [
    "coef = clf.coef_"
   ]
  },
  {
   "cell_type": "markdown",
   "metadata": {},
   "source": [
    "### Коэффициенты регрессии"
   ]
  },
  {
   "cell_type": "code",
   "execution_count": 41,
   "metadata": {},
   "outputs": [
    {
     "data": {
      "text/plain": [
       "array([[-8.56426715e+05],\n",
       "       [-8.54771980e+05],\n",
       "       [-4.35879484e+05],\n",
       "       [-1.23289467e+05],\n",
       "       [ 8.56250064e+05],\n",
       "       [-2.81626043e+01],\n",
       "       [-2.74172793e+00],\n",
       "       [ 9.86775276e+00],\n",
       "       [-5.69350741e+04],\n",
       "       [ 1.46617005e-01]])"
      ]
     },
     "execution_count": 41,
     "metadata": {},
     "output_type": "execute_result"
    }
   ],
   "source": [
    "coef.T"
   ]
  },
  {
   "cell_type": "code",
   "execution_count": 42,
   "metadata": {},
   "outputs": [],
   "source": [
    "y_predicted = clf.predict(X) \n",
    "e_all = y_predicted - y\n",
    "S = np.sum(e_all * e_all)\n",
    "R = 1 - np.sum(e_all * e_all) / np.sum((y - np.mean(y)) ** 2)\n",
    "sigma = S / (n - m)"
   ]
  },
  {
   "cell_type": "code",
   "execution_count": 43,
   "metadata": {},
   "outputs": [],
   "source": [
    "D = sigma * linalg.inv(np.dot(X.T, X))\n",
    "A = D[0:2, 0:2]\n",
    "p = np.linspace(0, 2 * np.pi, 1000)\n",
    "k = len(p)\n",
    "z = np.column_stack((np.cos(p), np.sin(p))).T\n",
    "alpha = 0.01"
   ]
  },
  {
   "cell_type": "code",
   "execution_count": 44,
   "metadata": {},
   "outputs": [],
   "source": [
    "quantile_t = np.sqrt(f.ppf(1 - alpha, 2, n - m))"
   ]
  },
  {
   "cell_type": "code",
   "execution_count": 45,
   "metadata": {},
   "outputs": [],
   "source": [
    "B = linalg.cholesky(A)"
   ]
  },
  {
   "cell_type": "code",
   "execution_count": 46,
   "metadata": {},
   "outputs": [],
   "source": [
    "coords = np.zeros((k, 2))"
   ]
  },
  {
   "cell_type": "code",
   "execution_count": 47,
   "metadata": {},
   "outputs": [],
   "source": [
    "for index in range(k):\n",
    "    result = quantile_t * np.dot(B.T, z[:, index])\n",
    "    coords[index, :] = result + coef[0, :2]"
   ]
  },
  {
   "cell_type": "code",
   "execution_count": 48,
   "metadata": {},
   "outputs": [],
   "source": [
    "quantile = t.ppf(1 - alpha, n - m) * np.sqrt(np.diag(A));"
   ]
  },
  {
   "cell_type": "code",
   "execution_count": 49,
   "metadata": {},
   "outputs": [],
   "source": [
    "betta = np.array([[coef[0, 0] - quantile[0],\n",
    "                  coef[0, 0] - quantile[0], \n",
    "                  coef[0, 0] + quantile[0], \n",
    "                  coef[0, 0] + quantile[0], \n",
    "                  coef[0, 0] - quantile[0]], \n",
    "                 [coef[0, 1] - quantile[1], \n",
    "                  coef[0, 1] + quantile[1], \n",
    "                  coef[0, 1] + quantile[1], \n",
    "                  coef[0, 1] - quantile[1], \n",
    "                  coef[0, 1] - quantile[1]]])"
   ]
  },
  {
   "cell_type": "code",
   "execution_count": 50,
   "metadata": {},
   "outputs": [
    {
     "data": {
      "image/png": "[encoded data removed]",
      "text/plain": [
       "<Figure size 720x720 with 1 Axes>"
      ]
     },
     "metadata": {},
     "output_type": "display_data"
    },
    {
     "data": {
      "image/png": "[encoded data removed]",
      "text/plain": [
       "<Figure size 720x720 with 1 Axes>"
      ]
     },
     "metadata": {},
     "output_type": "display_data"
    }
   ],
   "source": [
    "plt.figure(figsize=(10, 10))\n",
    "plt.plot(coords[:, 0], coords[:, 1], '-o')\n",
    "# plt.plot(betta[0, :], betta[1, :], '--r')\n",
    "plt.show()\n",
    "\n",
    "plt.figure(figsize=(10, 10))\n",
    "# plt.autoscale()\n",
    "plt.plot(coords[:, 1], coords[:, 0], '--o')\n",
    "plt.plot(betta[1, :], betta[0, :])\n",
    "\n",
    "plt.show()"
   ]
  },
  {
   "cell_type": "markdown",
   "metadata": {},
   "source": [
    "## Task 4"
   ]
  },
  {
   "cell_type": "markdown",
   "metadata": {},
   "source": [
    "### Доверительный интервал для прогноза"
   ]
  },
  {
   "cell_type": "code",
   "execution_count": 72,
   "metadata": {},
   "outputs": [],
   "source": [
    "X_M = np.array([x])[0]\n",
    "Y_M = np.array([y])[0]"
   ]
  },
  {
   "cell_type": "code",
   "execution_count": 85,
   "metadata": {},
   "outputs": [
    {
     "data": {
      "text/plain": [
       "(10, 10)"
      ]
     },
     "execution_count": 85,
     "metadata": {},
     "output_type": "execute_result"
    }
   ],
   "source": [
    "D.shape"
   ]
  },
  {
   "cell_type": "code",
   "execution_count": 86,
   "metadata": {},
   "outputs": [
    {
     "data": {
      "text/plain": [
       "(1321, 1)"
      ]
     },
     "execution_count": 86,
     "metadata": {},
     "output_type": "execute_result"
    }
   ],
   "source": [
    "X_M.shape"
   ]
  },
  {
   "cell_type": "code",
   "execution_count": 87,
   "metadata": {},
   "outputs": [
    {
     "data": {
      "text/plain": [
       "(1321, 1)"
      ]
     },
     "execution_count": 87,
     "metadata": {},
     "output_type": "execute_result"
    }
   ],
   "source": [
    "Y_M.shape"
   ]
  },
  {
   "cell_type": "code",
   "execution_count": 88,
   "metadata": {},
   "outputs": [
    {
     "data": {
      "text/plain": [
       "(1321, 10)"
      ]
     },
     "execution_count": 88,
     "metadata": {},
     "output_type": "execute_result"
    }
   ],
   "source": [
    "X.shape"
   ]
  },
  {
   "cell_type": "code",
   "execution_count": 104,
   "metadata": {},
   "outputs": [],
   "source": [
    "X = np.concatenate((np.ones(x.shape), x,  x ** 2, x ** 3, \n",
    "                    np.exp(x), np.log(x), np.sin(17 * x), \n",
    "                    np.cos(17 * x),\n",
    "                    x ** 4, np.cos(33 * x - 0.3)), axis=1)\n",
    "\n",
    "D = linalg.inv(np.dot(X, X.T))\n",
    "\n",
    "_T = np.dot(np.dot(x.T, D), x)"
   ]
  },
  {
   "cell_type": "code",
   "execution_count": 105,
   "metadata": {},
   "outputs": [
    {
     "data": {
      "text/plain": [
       "array([[0.75593442]])"
      ]
     },
     "execution_count": 105,
     "metadata": {},
     "output_type": "execute_result"
    }
   ],
   "source": [
    "_T"
   ]
  }
 ],
 "metadata": {
  "kernelspec": {
   "display_name": "Python 3",
   "language": "python",
   "name": "python3"
  },
  "language_info": {
   "codemirror_mode": {
    "name": "ipython",
    "version": 3
   },
   "file_extension": ".py",
   "mimetype": "text/x-python",
   "name": "python",
   "nbconvert_exporter": "python",
   "pygments_lexer": "ipython3",
   "version": "3.5.2"
  }
 },
 "nbformat": 4,
 "nbformat_minor": 2
}
